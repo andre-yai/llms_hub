{
 "cells": [
  {
   "cell_type": "markdown",
   "metadata": {},
   "source": [
    "# Test steps\n",
    "Test orchestration.\n",
    "\n",
    "Steps:\n",
    "1. Preprocess input data according to the requirements of each LLM.\n",
    "2. Create API calls to interact with registered LLMs.\n",
    "3. Compare the outputs of different LLMs against a predefined benchmark.\n",
    "4. Generate and analyze metrics such as accuracy, sensitivity, and cost for evaluation."
   ]
  },
  {
   "cell_type": "code",
   "execution_count": 1,
   "metadata": {},
   "outputs": [
    {
     "name": "stdout",
     "output_type": "stream",
     "text": [
      "Requirement already satisfied: openai in /Users/andreyai/Dev/.venv/lib/python3.13/site-packages (1.105.0)\n",
      "Requirement already satisfied: anyio<5,>=3.5.0 in /Users/andreyai/Dev/.venv/lib/python3.13/site-packages (from openai) (4.10.0)\n",
      "Requirement already satisfied: distro<2,>=1.7.0 in /Users/andreyai/Dev/.venv/lib/python3.13/site-packages (from openai) (1.9.0)\n",
      "Requirement already satisfied: httpx<1,>=0.23.0 in /Users/andreyai/Dev/.venv/lib/python3.13/site-packages (from openai) (0.28.1)\n",
      "Requirement already satisfied: jiter<1,>=0.4.0 in /Users/andreyai/Dev/.venv/lib/python3.13/site-packages (from openai) (0.10.0)\n",
      "Requirement already satisfied: pydantic<3,>=1.9.0 in /Users/andreyai/Dev/.venv/lib/python3.13/site-packages (from openai) (2.11.7)\n",
      "Requirement already satisfied: sniffio in /Users/andreyai/Dev/.venv/lib/python3.13/site-packages (from openai) (1.3.1)\n",
      "Requirement already satisfied: tqdm>4 in /Users/andreyai/Dev/.venv/lib/python3.13/site-packages (from openai) (4.67.1)\n",
      "Requirement already satisfied: typing-extensions<5,>=4.11 in /Users/andreyai/Dev/.venv/lib/python3.13/site-packages (from openai) (4.15.0)\n",
      "Requirement already satisfied: idna>=2.8 in /Users/andreyai/Dev/.venv/lib/python3.13/site-packages (from anyio<5,>=3.5.0->openai) (3.10)\n",
      "Requirement already satisfied: certifi in /Users/andreyai/Dev/.venv/lib/python3.13/site-packages (from httpx<1,>=0.23.0->openai) (2025.8.3)\n",
      "Requirement already satisfied: httpcore==1.* in /Users/andreyai/Dev/.venv/lib/python3.13/site-packages (from httpx<1,>=0.23.0->openai) (1.0.9)\n",
      "Requirement already satisfied: h11>=0.16 in /Users/andreyai/Dev/.venv/lib/python3.13/site-packages (from httpcore==1.*->httpx<1,>=0.23.0->openai) (0.16.0)\n",
      "Requirement already satisfied: annotated-types>=0.6.0 in /Users/andreyai/Dev/.venv/lib/python3.13/site-packages (from pydantic<3,>=1.9.0->openai) (0.7.0)\n",
      "Requirement already satisfied: pydantic-core==2.33.2 in /Users/andreyai/Dev/.venv/lib/python3.13/site-packages (from pydantic<3,>=1.9.0->openai) (2.33.2)\n",
      "Requirement already satisfied: typing-inspection>=0.4.0 in /Users/andreyai/Dev/.venv/lib/python3.13/site-packages (from pydantic<3,>=1.9.0->openai) (0.4.1)\n",
      "\n",
      "\u001b[1m[\u001b[0m\u001b[34;49mnotice\u001b[0m\u001b[1;39;49m]\u001b[0m\u001b[39;49m A new release of pip is available: \u001b[0m\u001b[31;49m25.1.1\u001b[0m\u001b[39;49m -> \u001b[0m\u001b[32;49m25.2\u001b[0m\n",
      "\u001b[1m[\u001b[0m\u001b[34;49mnotice\u001b[0m\u001b[1;39;49m]\u001b[0m\u001b[39;49m To update, run: \u001b[0m\u001b[32;49mpip install --upgrade pip\u001b[0m\n",
      "Requirement already satisfied: ipywidgets in /Users/andreyai/Dev/.venv/lib/python3.13/site-packages (8.1.7)\n",
      "Requirement already satisfied: comm>=0.1.3 in /Users/andreyai/Dev/.venv/lib/python3.13/site-packages (from ipywidgets) (0.2.2)\n",
      "Requirement already satisfied: ipython>=6.1.0 in /Users/andreyai/Dev/.venv/lib/python3.13/site-packages (from ipywidgets) (9.3.0)\n",
      "Requirement already satisfied: traitlets>=4.3.1 in /Users/andreyai/Dev/.venv/lib/python3.13/site-packages (from ipywidgets) (5.14.3)\n",
      "Requirement already satisfied: widgetsnbextension~=4.0.14 in /Users/andreyai/Dev/.venv/lib/python3.13/site-packages (from ipywidgets) (4.0.14)\n",
      "Requirement already satisfied: jupyterlab_widgets~=3.0.15 in /Users/andreyai/Dev/.venv/lib/python3.13/site-packages (from ipywidgets) (3.0.15)\n",
      "Requirement already satisfied: decorator in /Users/andreyai/Dev/.venv/lib/python3.13/site-packages (from ipython>=6.1.0->ipywidgets) (5.2.1)\n",
      "Requirement already satisfied: ipython-pygments-lexers in /Users/andreyai/Dev/.venv/lib/python3.13/site-packages (from ipython>=6.1.0->ipywidgets) (1.1.1)\n",
      "Requirement already satisfied: jedi>=0.16 in /Users/andreyai/Dev/.venv/lib/python3.13/site-packages (from ipython>=6.1.0->ipywidgets) (0.19.2)\n",
      "Requirement already satisfied: matplotlib-inline in /Users/andreyai/Dev/.venv/lib/python3.13/site-packages (from ipython>=6.1.0->ipywidgets) (0.1.7)\n",
      "Requirement already satisfied: pexpect>4.3 in /Users/andreyai/Dev/.venv/lib/python3.13/site-packages (from ipython>=6.1.0->ipywidgets) (4.9.0)\n",
      "Requirement already satisfied: prompt_toolkit<3.1.0,>=3.0.41 in /Users/andreyai/Dev/.venv/lib/python3.13/site-packages (from ipython>=6.1.0->ipywidgets) (3.0.51)\n",
      "Requirement already satisfied: pygments>=2.4.0 in /Users/andreyai/Dev/.venv/lib/python3.13/site-packages (from ipython>=6.1.0->ipywidgets) (2.19.1)\n",
      "Requirement already satisfied: stack_data in /Users/andreyai/Dev/.venv/lib/python3.13/site-packages (from ipython>=6.1.0->ipywidgets) (0.6.3)\n",
      "Requirement already satisfied: wcwidth in /Users/andreyai/Dev/.venv/lib/python3.13/site-packages (from prompt_toolkit<3.1.0,>=3.0.41->ipython>=6.1.0->ipywidgets) (0.2.13)\n",
      "Requirement already satisfied: parso<0.9.0,>=0.8.4 in /Users/andreyai/Dev/.venv/lib/python3.13/site-packages (from jedi>=0.16->ipython>=6.1.0->ipywidgets) (0.8.4)\n",
      "Requirement already satisfied: ptyprocess>=0.5 in /Users/andreyai/Dev/.venv/lib/python3.13/site-packages (from pexpect>4.3->ipython>=6.1.0->ipywidgets) (0.7.0)\n",
      "Requirement already satisfied: executing>=1.2.0 in /Users/andreyai/Dev/.venv/lib/python3.13/site-packages (from stack_data->ipython>=6.1.0->ipywidgets) (2.2.0)\n",
      "Requirement already satisfied: asttokens>=2.1.0 in /Users/andreyai/Dev/.venv/lib/python3.13/site-packages (from stack_data->ipython>=6.1.0->ipywidgets) (3.0.0)\n",
      "Requirement already satisfied: pure-eval in /Users/andreyai/Dev/.venv/lib/python3.13/site-packages (from stack_data->ipython>=6.1.0->ipywidgets) (0.2.3)\n",
      "\n",
      "\u001b[1m[\u001b[0m\u001b[34;49mnotice\u001b[0m\u001b[1;39;49m]\u001b[0m\u001b[39;49m A new release of pip is available: \u001b[0m\u001b[31;49m25.1.1\u001b[0m\u001b[39;49m -> \u001b[0m\u001b[32;49m25.2\u001b[0m\n",
      "\u001b[1m[\u001b[0m\u001b[34;49mnotice\u001b[0m\u001b[1;39;49m]\u001b[0m\u001b[39;49m To update, run: \u001b[0m\u001b[32;49mpip install --upgrade pip\u001b[0m\n"
     ]
    }
   ],
   "source": [
    "!pip install openai\n",
    "!pip install ipywidgets"
   ]
  },
  {
   "cell_type": "code",
   "execution_count": 7,
   "metadata": {},
   "outputs": [],
   "source": [
    "import yaml\n",
    "with open(\"config.yml\", 'r') as file:\n",
    "    config = yaml.safe_load(file)\n"
   ]
  },
  {
   "cell_type": "code",
   "execution_count": 8,
   "metadata": {},
   "outputs": [],
   "source": [
    "def get_model_options(config):\n",
    "    options = None\n",
    "    for llm in config[\"llms\"]:\n",
    "        if(llm[\"model_name\"] == config[\"default_model\"]):\n",
    "            options = llm[\"options\"]\n",
    "    if(options is None):\n",
    "        raise ValueError(\"Default model not found in config file\")\n",
    "    return options\n",
    "\n",
    "options = get_model_options(config)"
   ]
  },
  {
   "cell_type": "code",
   "execution_count": 6,
   "metadata": {},
   "outputs": [
    {
     "name": "stdout",
     "output_type": "stream",
     "text": [
      "options: {'api_key': 'bedrock-api-key-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', 'base_url': 'https://bedrock-runtime.us-east-1.amazonaws.com/openai/v1'}\n",
      "Response: The New York City Marathon is one of the world's largest and most prestigious marathons. Here are some key points about it:\n",
      "\n",
      "1. History:\n",
      "- First held in 1970\n",
      "- Originally run entirely in Central Park\n",
      "- Expanded to all five NYC boroughs in 1976\n",
      "\n",
      "2. Course:\n",
      "- 26.2 miles (42.2 km)\n",
      "- Starts in Staten Island\n",
      "- Runs through Brooklyn, Queens, Manhattan, and the Bronx\n",
      "- Finishes in Central Park, Manhattan\n",
      "\n",
      "3. Participation:\n",
      "- Around 50,000 runners complete the race annually\n",
      "- Attracts participants from all over the world\n",
      "- One of the World Marathon Majors\n",
      "\n",
      "4. Notable features:\n",
      "- Typically held on the first Sunday of November\n",
      "- Largest marathon in the world\n",
      "- Known for massive crowd support\n",
      "- Runners cross five bridges during the race\n",
      "\n",
      "5. Entry:\n",
      "- Runners can qualify through various methods:\n",
      "  - Time qualification\n",
      "  - Charity programs\n",
      "  - Lottery system\n",
      "  - International travel partners\n",
      "\n",
      "The race is organized by New York Road Runners (NYRR) and has become a major event in both the sporting calendar and New York City's cultural life.\n",
      "Usage: {'inputTokens': 23, 'outputTokens': 273, 'totalTokens': 296, 'cacheReadInputTokens': 0, 'cacheWriteInputTokens': 0}\n"
     ]
    }
   ],
   "source": [
    "from llms_api import LLM_API\n",
    "\n",
    "system_prompt = config[\"system_prompt\"]\n",
    "user_prompt = config[\"user_prompt\"]\n",
    "model_name = config[\"default_model\"]\n",
    "\n",
    "llm_api = LLM_API(options)\n",
    "response,usage = llm_api.openAI_call(user_prompt,system_prompt,model_name)\n",
    "\n",
    "#print(messages)\n",
    "print(\"Response:\", response)\n",
    "print(\"Usage:\", usage)"
   ]
  },
  {
   "cell_type": "code",
   "execution_count": 9,
   "metadata": {},
   "outputs": [
    {
     "name": "stdout",
     "output_type": "stream",
     "text": [
      "You entered: name\n"
     ]
    }
   ],
   "source": [
    "while True:\n",
    "    user_input = input(\"Enter something: \")\n",
    "    print(f\"You entered: {user_input}\")\n",
    "    if user_input.lower() != \"exit\":\n",
    "        break"
   ]
  }
 ],
 "metadata": {
  "kernelspec": {
   "display_name": ".venv",
   "language": "python",
   "name": "python3"
  },
  "language_info": {
   "codemirror_mode": {
    "name": "ipython",
    "version": 3
   },
   "file_extension": ".py",
   "mimetype": "text/x-python",
   "name": "python",
   "nbconvert_exporter": "python",
   "pygments_lexer": "ipython3",
   "version": "3.13.4"
  }
 },
 "nbformat": 4,
 "nbformat_minor": 2
}
