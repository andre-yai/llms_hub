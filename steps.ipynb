{
 "cells": [
  {
   "cell_type": "markdown",
   "metadata": {},
   "source": [
    "# Test steps\n",
    "Test orchestration.\n",
    "\n",
    "Steps:\n",
    "1. Preprocess input data according to the requirements of each LLM.\n",
    "2. Create API calls to interact with registered LLMs.\n",
    "3. Compare the outputs of different LLMs against a predefined benchmark.\n",
    "4. Generate and analyze metrics such as accuracy, sensitivity, and cost for evaluation."
   ]
  },
  {
   "cell_type": "code",
   "execution_count": 2,
   "metadata": {},
   "outputs": [
    {
     "data": {
      "application/vnd.jupyter.widget-view+json": {
       "model_id": "6498eaddeed84da3a2db08001f985451",
       "version_major": 2,
       "version_minor": 0
      },
      "text/plain": [
       "Text(value='', description='Input:', placeholder='Enter text here')"
      ]
     },
     "metadata": {},
     "output_type": "display_data"
    },
    {
     "data": {
      "application/vnd.jupyter.widget-view+json": {
       "model_id": "216c2bd40fbb4ead932d601e80408df0",
       "version_major": 2,
       "version_minor": 0
      },
      "text/plain": [
       "Button(description='Submit', icon='check', style=ButtonStyle(), tooltip='Click me')"
      ]
     },
     "metadata": {},
     "output_type": "display_data"
    }
   ],
   "source": [
    "import ipywidgets as widgets\n",
    "from IPython.display import display\n",
    "\n",
    "# Create a text box widget\n",
    "text_box = widgets.Text(\n",
    "    value='',\n",
    "    placeholder='Enter text here',\n",
    "    description='Input:',\n",
    "    disabled=False\n",
    ")\n",
    "\n",
    "# Create a button widget\n",
    "button = widgets.Button(\n",
    "    description='Submit',\n",
    "    disabled=False,\n",
    "    button_style='',  # 'success', 'info', 'warning', 'danger' or ''\n",
    "    tooltip='Click me',\n",
    "    icon='check'  # (FontAwesome names without the `fa-` prefix)\n",
    ")\n",
    "\n",
    "# Display the widgets\n",
    "display(text_box, button)\n",
    "\n",
    "# Define a function to handle button click\n",
    "def on_button_click(b):\n",
    "    print(f\"Text entered: {text_box.value}\")\n",
    "\n",
    "# Attach the function to the button click event\n",
    "button.on_click(on_button_click)"
   ]
  },
  {
   "cell_type": "code",
   "execution_count": 1,
   "metadata": {},
   "outputs": [],
   "source": [
    "text_value = \"Hello, World!\""
   ]
  },
  {
   "cell_type": "code",
   "execution_count": 3,
   "metadata": {},
   "outputs": [
    {
     "name": "stdout",
     "output_type": "stream",
     "text": [
      "Text\n"
     ]
    }
   ],
   "source": [
    "option=\"text\"\n",
    "\n",
    "if(option == \"text\"):\n",
    "    print(\"Text\")\n",
    "if(option == \"image\"):\n",
    "    print(\"Image\")"
   ]
  },
  {
   "cell_type": "code",
   "execution_count": 37,
   "metadata": {},
   "outputs": [],
   "source": [
    "import yaml\n",
    "with open(\"config.yml\", 'r') as file:\n",
    "    config = yaml.safe_load(file)\n",
    "\n",
    "secret_api_key = config[\"secret_api_key\"]"
   ]
  },
  {
   "cell_type": "code",
   "execution_count": 28,
   "metadata": {},
   "outputs": [],
   "source": [
    "def get_image_base64(image_path):\n",
    "    import base64\n",
    "    with open(image_path, \"rb\") as image_file:\n",
    "        encoded_string = base64.b64encode(image_file.read()).decode('utf-8')\n",
    "    return \"data:image/png;base64,\" + encoded_string\n",
    "\n",
    "sytem_prompt = \"\"\n",
    "system_message = {\"role\": \"system\", \"content\": [{\"type\": \"text\", \"text\": sytem_prompt}]}\n",
    "if option == \"text\":\n",
    "    user_message = {\"role\": \"user\", \"content\": [{\"type\": \"text\", \"text\": text_value}]}\n",
    "elif option == \"image\":\n",
    "    image_path = text_value\n",
    "    user_message = {\"role\": \"user\", \"content\": {\"type\": \"image_url\",\"image_url\": {\"url\": get_image_base64(image_path)}}}"
   ]
  },
  {
   "cell_type": "code",
   "execution_count": 38,
   "metadata": {},
   "outputs": [],
   "source": [
    "from openai import OpenAI\n",
    "client = OpenAI(api_key=secret_api_key)"
   ]
  },
  {
   "cell_type": "code",
   "execution_count": 39,
   "metadata": {},
   "outputs": [
    {
     "name": "stdout",
     "output_type": "stream",
     "text": [
      "Response: Hello! How can I help you today?\n",
      "Usage: CompletionUsage(completion_tokens=82, prompt_tokens=14, total_tokens=96, completion_tokens_details=CompletionTokensDetails(accepted_prediction_tokens=0, audio_tokens=0, reasoning_tokens=64, rejected_prediction_tokens=0), prompt_tokens_details=PromptTokensDetails(audio_tokens=0, cached_tokens=0))\n"
     ]
    }
   ],
   "source": [
    "# OpenAI API call (pseudo-code, replace with actual API call)\n",
    "# response = openai.ChatCompletion.create(\n",
    "#     model=\"gpt-4-vision-preview\",\n",
    "#     messages=[system_message, user_message]\n",
    "# )\n",
    "\n",
    "def openAI_call(client, system_message, user_message):\n",
    "    # This is a placeholder function. Replace with actual OpenAI API call.\n",
    "    response = client.chat.completions.create(\n",
    "        model=\"gpt-5\",\n",
    "        messages=[system_message, user_message]\n",
    "    )\n",
    "    return response.choices[0].message,response.usage\n",
    "\n",
    "response,usage = openAI_call(client, system_message, user_message)\n",
    "\n",
    "print(\"Response:\", response.content)\n",
    "print(\"Usage:\", usage)\n"
   ]
  }
 ],
 "metadata": {
  "kernelspec": {
   "display_name": ".venv",
   "language": "python",
   "name": "python3"
  },
  "language_info": {
   "codemirror_mode": {
    "name": "ipython",
    "version": 3
   },
   "file_extension": ".py",
   "mimetype": "text/x-python",
   "name": "python",
   "nbconvert_exporter": "python",
   "pygments_lexer": "ipython3",
   "version": "3.13.4"
  }
 },
 "nbformat": 4,
 "nbformat_minor": 2
}
